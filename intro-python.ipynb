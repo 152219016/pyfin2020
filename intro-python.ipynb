{
 "cells": [
  {
   "cell_type": "markdown",
   "metadata": {},
   "source": [
    "# Python for Finance 2020\n",
    "\n",
    "### MSc in Finance, Universidade Católica Portuguesa\n",
    "\n",
    "Instructor: João Brogueira de Sousa [jbsousa@ucp.pt]"
   ]
  },
  {
   "cell_type": "markdown",
   "metadata": {},
   "source": [
    "## What is Python?"
   ]
  },
  {
   "cell_type": "markdown",
   "metadata": {},
   "source": [
    "### What for and why is it widely used?\n",
    "\n",
    "- Easy to learn and use, in comparison to other programming languages.\n",
    "- Provides many useful tools to work with data.\n",
    "- Popular and open source programming language: means you don't have to write everything from scratch for your application, but can often use (and contribute to) open source code. \n",
    "- General purpose: data analysis, data visualization, financial modeling, websites, presentations, etc."
   ]
  },
  {
   "cell_type": "markdown",
   "metadata": {},
   "source": [
    "## How can we access it?\n",
    "\n",
    "https://www.python.org/\n",
    "\n",
    "We can install Python like any other piece of software. \n",
    "\n",
    "The core installation is available to download at:\n",
    "\n",
    "https://www.python.org/downloads/\n",
    "\n",
    "However, for this course we need additional Python resources (i.e. packages, *libraries* of code with Python *functions* we will use often), which are not included in the core Python distribution.\n",
    "\n",
    "Instead of installing each of these packages individually, we will install the [Anaconda Python distribution](https://www.anaconda.com/distribution/).\n",
    "\n",
    "By installing [Anaconda](https://en.wikipedia.org/wiki/Anaconda_(Python_distribution)), we make sure not only that we have all the Python packages we need, but that they interact smoothly when we use them together."
   ]
  },
  {
   "cell_type": "markdown",
   "metadata": {},
   "source": [
    "## How can we use it?"
   ]
  },
  {
   "cell_type": "code",
   "execution_count": null,
   "metadata": {},
   "outputs": [],
   "source": []
  }
 ],
 "metadata": {
  "kernelspec": {
   "display_name": "Python 3",
   "language": "python",
   "name": "python3"
  },
  "language_info": {
   "codemirror_mode": {
    "name": "ipython",
    "version": 3
   },
   "file_extension": ".py",
   "mimetype": "text/x-python",
   "name": "python",
   "nbconvert_exporter": "python",
   "pygments_lexer": "ipython3",
   "version": "3.7.4"
  }
 },
 "nbformat": 4,
 "nbformat_minor": 4
}
