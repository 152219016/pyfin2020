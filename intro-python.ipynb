{
 "cells": [
  {
   "cell_type": "markdown",
   "metadata": {
    "slideshow": {
     "slide_type": "slide"
    }
   },
   "source": [
    "# Python for Finance 2020\n",
    "\n",
    "### MSc in Finance, Universidade Católica Portuguesa\n",
    "\n",
    "Instructor: João Brogueira de Sousa [jbsousa@ucp.pt]"
   ]
  },
  {
   "cell_type": "markdown",
   "metadata": {
    "slideshow": {
     "slide_type": "slide"
    }
   },
   "source": [
    "## What is Python?"
   ]
  },
  {
   "cell_type": "markdown",
   "metadata": {
    "slideshow": {
     "slide_type": "slide"
    }
   },
   "source": [
    "### What for and why is it widely used?\n",
    "\n",
    "- Easy to learn and use, in comparison to other programming languages.\n",
    "- Provides many useful tools to work with data.\n",
    "- Popular and open source programming language: means you don't have to write everything from scratch for your application, but can often use (and contribute to) open source code. \n",
    "- General purpose: data analysis, data visualization, financial modeling, websites, presentations, etc."
   ]
  },
  {
   "cell_type": "markdown",
   "metadata": {
    "slideshow": {
     "slide_type": "slide"
    }
   },
   "source": [
    "## How can we access it?\n",
    "\n",
    "https://www.python.org/\n",
    "\n",
    "We can install Python like any other piece of software. \n",
    "\n",
    "The core installation is available to download at:\n",
    "\n",
    "https://www.python.org/downloads/\n",
    "\n",
    "However, for this course we need additional Python resources (i.e. packages, *libraries* of code with Python *functions* we will use often), which are not included in the core Python distribution.\n",
    "\n",
    "Instead of installing each of these packages individually, we will install the [Anaconda Python distribution](https://www.anaconda.com/distribution/).\n",
    "\n",
    "By installing [Anaconda](https://en.wikipedia.org/wiki/Anaconda_(Python_distribution)), we make sure not only that we have all the Python packages we need, but that they interact smoothly when we use them together."
   ]
  },
  {
   "cell_type": "markdown",
   "metadata": {},
   "source": [
    "## How can we use it?"
   ]
  },
  {
   "cell_type": "markdown",
   "metadata": {
    "slideshow": {
     "slide_type": "slide"
    }
   },
   "source": [
    "One Python is installed, we can use directly by openning a Terminal window (*Command prompt* in Windows), and type `python`:\n",
    "\n",
    "![terminal-python.png](terminal-python.png)\n",
    "\n",
    "We have started the Python *interpreter*, meaning that we can now type in statements that our computer will be able to interpret in Python, provided they are written in correct Python language.\n",
    "\n",
    "Exit by typing `control+D` on Unix or `control+Z` on Windows, or `quit()`."
   ]
  },
  {
   "cell_type": "markdown",
   "metadata": {
    "slideshow": {
     "slide_type": "subslide"
    }
   },
   "source": [
    "With the Python interpreter, we can perform simple operations:\n",
    "\n",
    "![terminal-python-1-2.png](terminal-python-1-2.png)"
   ]
  },
  {
   "cell_type": "markdown",
   "metadata": {
    "slideshow": {
     "slide_type": "subslide"
    }
   },
   "source": [
    "Or we can make use of Python functions available in the core Python libraries (we can also create our own functions!):\n",
    "\n",
    "![terminal-python-hello.png](terminal-python-hello.png)"
   ]
  },
  {
   "cell_type": "code",
   "execution_count": null,
   "metadata": {},
   "outputs": [],
   "source": []
  }
 ],
 "metadata": {
  "kernelspec": {
   "display_name": "Python 3",
   "language": "python",
   "name": "python3"
  },
  "language_info": {
   "codemirror_mode": {
    "name": "ipython",
    "version": 3
   },
   "file_extension": ".py",
   "mimetype": "text/x-python",
   "name": "python",
   "nbconvert_exporter": "python",
   "pygments_lexer": "ipython3",
   "version": "3.7.4"
  }
 },
 "nbformat": 4,
 "nbformat_minor": 4
}
