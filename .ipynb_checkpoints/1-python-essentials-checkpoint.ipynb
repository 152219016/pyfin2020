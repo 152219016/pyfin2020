{
 "cells": [
  {
   "cell_type": "markdown",
   "metadata": {},
   "source": [
    "# Python for Finance 2020\n",
    "\n",
    "MSc in Finance, Universidade Católica Portuguesa\n",
    "\n",
    "Instructor: João Brogueira de Sousa [jbsousa@ucp.pt]"
   ]
  },
  {
   "cell_type": "markdown",
   "metadata": {},
   "source": [
    "## Python essentials\n",
    "\n",
    "In this notebook you can find some basic aspects of programming in Python."
   ]
  },
  {
   "cell_type": "markdown",
   "metadata": {},
   "source": [
    "### Assignment statements \n",
    "\n",
    "The first thing we will learn is how to assign a value to a variable. This is done through an assignment statement:"
   ]
  },
  {
   "cell_type": "code",
   "execution_count": 157,
   "metadata": {},
   "outputs": [],
   "source": [
    "x = \"Hello world!\""
   ]
  },
  {
   "cell_type": "markdown",
   "metadata": {},
   "source": [
    "The statement above does not express a mathematical equality. \n",
    "\n",
    "It expresses an *action* we want Python to perform:\n",
    "\n",
    "1. compute the value on the right side of the equal sign (\"Hello world!\" in this example), and store that value in the memory of our computer;\n",
    "\n",
    "2. give it the specified on the left of the equal sign (`x` in this example).\n",
    "\n",
    "Python will remember `x` during the *current* Python session, but no longer after we end the session."
   ]
  },
  {
   "cell_type": "code",
   "execution_count": 158,
   "metadata": {},
   "outputs": [
    {
     "name": "stdout",
     "output_type": "stream",
     "text": [
      "Hello world!\n"
     ]
    }
   ],
   "source": [
    "print(x)"
   ]
  },
  {
   "cell_type": "markdown",
   "metadata": {},
   "source": [
    "If we now give the same name `x` to another variable:"
   ]
  },
  {
   "cell_type": "code",
   "execution_count": 159,
   "metadata": {},
   "outputs": [],
   "source": [
    "x = 1.0"
   ]
  },
  {
   "cell_type": "code",
   "execution_count": 160,
   "metadata": {},
   "outputs": [
    {
     "name": "stdout",
     "output_type": "stream",
     "text": [
      "1.0\n"
     ]
    }
   ],
   "source": [
    "print(x)"
   ]
  },
  {
   "cell_type": "markdown",
   "metadata": {},
   "source": [
    "We loose the association to the value that was originally attributed to `x` (Hello world!). \n",
    "\n",
    "Now the name `x` is bound to a different object in memory, and this object has a numerial value (1.0).\n",
    "\n",
    "Let's see what happens with an assignment statement in Python in more detail."
   ]
  },
  {
   "cell_type": "code",
   "execution_count": 161,
   "metadata": {},
   "outputs": [],
   "source": [
    "a = 123"
   ]
  },
  {
   "cell_type": "markdown",
   "metadata": {},
   "source": [
    "When we write `a = 123` and ask Python to evaluate this statement, Python will create an *object* in the memory of our computer with the value 123, and then label this new object label `a`.\n",
    "\n",
    "What do we mean by *object* here? \n",
    "\n",
    "In Python, an object is characterized by an *idendity*, a *type* and its *value*:\n",
    "\n",
    "- The *identity* uniquely identifies an object. It is the actual address in our computer's memory where the object is stored. We usually don't need to know it.\n",
    "\n",
    "- The *type* of the object defines how it can behave in our program (what we can do with it). It defines the possible values it can represent (for example, integers, real numbers, boolean values, characters), and the operations that we can perform on it (for example, division, multiplication, etc.). \n",
    "\n",
    "- The *value* is the actual value that the object represents. This may change during the execution of our Python program.\n",
    "\n",
    "Let's see this mechanism in action."
   ]
  },
  {
   "cell_type": "code",
   "execution_count": 162,
   "metadata": {},
   "outputs": [],
   "source": [
    "b = 99 # create a new object with value 99, and call it 'b'"
   ]
  },
  {
   "cell_type": "markdown",
   "metadata": {},
   "source": [
    "Now add the values of the objects named `a` and `b`, then create a new object `c` and assign the resulting sum to it:"
   ]
  },
  {
   "cell_type": "code",
   "execution_count": 163,
   "metadata": {},
   "outputs": [],
   "source": [
    "c = a + b"
   ]
  },
  {
   "cell_type": "code",
   "execution_count": 164,
   "metadata": {},
   "outputs": [
    {
     "name": "stdout",
     "output_type": "stream",
     "text": [
      "222\n"
     ]
    }
   ],
   "source": [
    "print(c)"
   ]
  },
  {
   "cell_type": "markdown",
   "metadata": {},
   "source": [
    "Now `c` has value 222.\n",
    "\n",
    "Suppose that now we change the value associated to `a`:"
   ]
  },
  {
   "cell_type": "code",
   "execution_count": 165,
   "metadata": {},
   "outputs": [],
   "source": [
    "a = 0 # create a new object with value 0"
   ]
  },
  {
   "cell_type": "code",
   "execution_count": 166,
   "metadata": {},
   "outputs": [
    {
     "name": "stdout",
     "output_type": "stream",
     "text": [
      "0\n"
     ]
    }
   ],
   "source": [
    "print(a)"
   ]
  },
  {
   "cell_type": "markdown",
   "metadata": {},
   "source": [
    "What happened with `c`, that we created above with the statement `c = a + b`? Did its value change after we changed the value to which `a` is bound to?"
   ]
  },
  {
   "cell_type": "code",
   "execution_count": 167,
   "metadata": {},
   "outputs": [
    {
     "name": "stdout",
     "output_type": "stream",
     "text": [
      "222\n"
     ]
    }
   ],
   "source": [
    "print(c)"
   ]
  },
  {
   "cell_type": "markdown",
   "metadata": {},
   "source": [
    "It did not. \n",
    "\n",
    "`c` is still pointing to the object with value 222, sitting somewhere in the memory of our computer, as we did nothing to change that. \n",
    "\n",
    "It is important to always remember this mechanism as we write more complext statements in our Python programs."
   ]
  },
  {
   "cell_type": "markdown",
   "metadata": {},
   "source": [
    "Other things worth noting at this point:\n",
    "- The order with which we evaluate the cells is crucial. That's why Jupyter always numbers the code cells, so that we know the order in which they were last evaluated.\n",
    "- Python is case sensitive: `x` and `X` are two different names.\n",
    "- We can add comments to the code by using `#`. Python ignores everything in a line following `#`. They should be used extensively, to explain what the code does."
   ]
  },
  {
   "cell_type": "markdown",
   "metadata": {},
   "source": [
    "### Commonly used data types and operators\n",
    "\n",
    "We have already created a few variables, and we've seen that each of them is an object with a given `type` (even if we didn't specify it directly).\n",
    "\n",
    "A data *type* is the *set of values* a given variable can take, and the *set of operations* that are defined on those values. \n",
    "\n",
    "For example, above `a=123` created an object of type `int`, for as 123 is an integer number. \n",
    "\n",
    "And we saw one operation on two `int` objects, when we wrote `c=a+b`.\n",
    "\n",
    "Several data types are built into Python. Among them, we often use: \n",
    "\n",
    "- `int`: integers (1, 2, 3, ...)\n",
    "\n",
    "- `float`: floating point numbers (1.0, 1.5, 3.14159, ...)\n",
    "\n",
    "- `bool`: boolean values (`True`, `False`)\n",
    "\n",
    "- `str`: sequences of characters (\"Hello\", \"AB\", \"2.4\")\n",
    "\n",
    "We can also create our own data types. Let's first get to know the four types above."
   ]
  },
  {
   "cell_type": "markdown",
   "metadata": {},
   "source": [
    "#### Boolean\n",
    "\n",
    "One simple data type is `bool`, that represents boolean values `True` and `False`. "
   ]
  },
  {
   "cell_type": "code",
   "execution_count": 168,
   "metadata": {},
   "outputs": [
    {
     "name": "stdout",
     "output_type": "stream",
     "text": [
      "True\n"
     ]
    }
   ],
   "source": [
    "h1 = True\n",
    "print(h1)"
   ]
  },
  {
   "cell_type": "code",
   "execution_count": 169,
   "metadata": {},
   "outputs": [
    {
     "data": {
      "text/plain": [
       "bool"
      ]
     },
     "execution_count": 169,
     "metadata": {},
     "output_type": "execute_result"
    }
   ],
   "source": [
    "type(h1)"
   ]
  },
  {
   "cell_type": "markdown",
   "metadata": {},
   "source": [
    "`type` is another built-in Python function that returns the type of a variable.\n",
    "\n",
    "Instead of writing `True` or `False` directly, we can use comparison operators to assign boolean values:"
   ]
  },
  {
   "cell_type": "code",
   "execution_count": 170,
   "metadata": {},
   "outputs": [],
   "source": [
    "h0 = 1 > 10"
   ]
  },
  {
   "cell_type": "markdown",
   "metadata": {},
   "source": [
    "Above, the Python interpreter evaluates the expression to the right of `=` and binds `y` to the outcome of this evaluation."
   ]
  },
  {
   "cell_type": "code",
   "execution_count": 171,
   "metadata": {},
   "outputs": [
    {
     "name": "stdout",
     "output_type": "stream",
     "text": [
      "False\n"
     ]
    }
   ],
   "source": [
    "print(h0)"
   ]
  },
  {
   "cell_type": "code",
   "execution_count": 172,
   "metadata": {},
   "outputs": [],
   "source": [
    "h0 = 1 == 1"
   ]
  },
  {
   "cell_type": "code",
   "execution_count": 173,
   "metadata": {},
   "outputs": [
    {
     "name": "stdout",
     "output_type": "stream",
     "text": [
      "True\n"
     ]
    }
   ],
   "source": [
    "print(h0)"
   ]
  },
  {
   "cell_type": "markdown",
   "metadata": {},
   "source": [
    "We can use `<`, `>`, `==`, `>=` and `<=`.\n",
    "\n",
    "We can also use the word `not` to negate a boolean."
   ]
  },
  {
   "cell_type": "code",
   "execution_count": 174,
   "metadata": {},
   "outputs": [
    {
     "name": "stdout",
     "output_type": "stream",
     "text": [
      "False\n"
     ]
    }
   ],
   "source": [
    "h0 = not True\n",
    "print(h0)"
   ]
  },
  {
   "cell_type": "markdown",
   "metadata": {},
   "source": [
    "Sometimes we need to make multiple comparisons. We can do this with `and` and `or`:"
   ]
  },
  {
   "cell_type": "code",
   "execution_count": 175,
   "metadata": {},
   "outputs": [
    {
     "data": {
      "text/plain": [
       "False"
      ]
     },
     "execution_count": 175,
     "metadata": {},
     "output_type": "execute_result"
    }
   ],
   "source": [
    "h0 and h1"
   ]
  },
  {
   "cell_type": "code",
   "execution_count": 176,
   "metadata": {},
   "outputs": [
    {
     "data": {
      "text/plain": [
       "True"
      ]
     },
     "execution_count": 176,
     "metadata": {},
     "output_type": "execute_result"
    }
   ],
   "source": [
    "h0 or h1"
   ]
  },
  {
   "cell_type": "markdown",
   "metadata": {},
   "source": [
    "#### Integers and floats\n",
    "\n",
    "We usually use integers `int` and floats `float` data-types to represent numeric values in Python."
   ]
  },
  {
   "cell_type": "code",
   "execution_count": 177,
   "metadata": {},
   "outputs": [],
   "source": [
    "i = 1\n",
    "f = 1.0"
   ]
  },
  {
   "cell_type": "code",
   "execution_count": 178,
   "metadata": {},
   "outputs": [
    {
     "data": {
      "text/plain": [
       "int"
      ]
     },
     "execution_count": 178,
     "metadata": {},
     "output_type": "execute_result"
    }
   ],
   "source": [
    "type(i)"
   ]
  },
  {
   "cell_type": "code",
   "execution_count": 179,
   "metadata": {},
   "outputs": [
    {
     "data": {
      "text/plain": [
       "float"
      ]
     },
     "execution_count": 179,
     "metadata": {},
     "output_type": "execute_result"
    }
   ],
   "source": [
    "type(f)"
   ]
  },
  {
   "cell_type": "markdown",
   "metadata": {},
   "source": [
    "We wouldn't care much about the distinction between the two, but in a computer the distiction is useful: operations done with integers are more accurate and faster (they take less memory). \n",
    "\n",
    "Division of two integers yields a float:"
   ]
  },
  {
   "cell_type": "code",
   "execution_count": 180,
   "metadata": {},
   "outputs": [
    {
     "data": {
      "text/plain": [
       "0.5"
      ]
     },
     "execution_count": 180,
     "metadata": {},
     "output_type": "execute_result"
    }
   ],
   "source": [
    "1 / 2"
   ]
  },
  {
   "cell_type": "markdown",
   "metadata": {},
   "source": [
    "If we want the integer division, we use: "
   ]
  },
  {
   "cell_type": "code",
   "execution_count": 181,
   "metadata": {},
   "outputs": [
    {
     "data": {
      "text/plain": [
       "0"
      ]
     },
     "execution_count": 181,
     "metadata": {},
     "output_type": "execute_result"
    }
   ],
   "source": [
    "1 // 2"
   ]
  },
  {
   "cell_type": "code",
   "execution_count": 182,
   "metadata": {},
   "outputs": [
    {
     "data": {
      "text/plain": [
       "6"
      ]
     },
     "execution_count": 182,
     "metadata": {},
     "output_type": "execute_result"
    }
   ],
   "source": [
    "3*2"
   ]
  },
  {
   "cell_type": "code",
   "execution_count": 183,
   "metadata": {},
   "outputs": [
    {
     "data": {
      "text/plain": [
       "6.0"
      ]
     },
     "execution_count": 183,
     "metadata": {},
     "output_type": "execute_result"
    }
   ],
   "source": [
    "3.0*2"
   ]
  },
  {
   "cell_type": "code",
   "execution_count": 184,
   "metadata": {},
   "outputs": [
    {
     "data": {
      "text/plain": [
       "9.0"
      ]
     },
     "execution_count": 184,
     "metadata": {},
     "output_type": "execute_result"
    }
   ],
   "source": [
    "3.0**2"
   ]
  },
  {
   "cell_type": "markdown",
   "metadata": {},
   "source": [
    "#### Strings\n",
    "\n",
    "We often want our Python programs to process text. The built-in data type used to represent text strings is `str`. \n",
    "\n",
    "The value of a `str` object is a string of characters."
   ]
  },
  {
   "cell_type": "code",
   "execution_count": 185,
   "metadata": {},
   "outputs": [
    {
     "data": {
      "text/plain": [
       "'Hello, World!'"
      ]
     },
     "execution_count": 185,
     "metadata": {},
     "output_type": "execute_result"
    }
   ],
   "source": [
    "message = 'Hello, World!'\n",
    "message"
   ]
  },
  {
   "cell_type": "code",
   "execution_count": 186,
   "metadata": {},
   "outputs": [
    {
     "data": {
      "text/plain": [
       "str"
      ]
     },
     "execution_count": 186,
     "metadata": {},
     "output_type": "execute_result"
    }
   ],
   "source": [
    "type(message)"
   ]
  },
  {
   "cell_type": "markdown",
   "metadata": {},
   "source": [
    "The `+` operator defined on `str` applies concatenation:"
   ]
  },
  {
   "cell_type": "code",
   "execution_count": 187,
   "metadata": {},
   "outputs": [
    {
     "data": {
      "text/plain": [
       "'Hello, World!'"
      ]
     },
     "execution_count": 187,
     "metadata": {},
     "output_type": "execute_result"
    }
   ],
   "source": [
    "'Hello, ' + 'World!'"
   ]
  },
  {
   "cell_type": "code",
   "execution_count": 188,
   "metadata": {},
   "outputs": [
    {
     "data": {
      "text/plain": [
       "'123456'"
      ]
     },
     "execution_count": 188,
     "metadata": {},
     "output_type": "execute_result"
    }
   ],
   "source": [
    "'123' + '456'"
   ]
  },
  {
   "cell_type": "code",
   "execution_count": 189,
   "metadata": {},
   "outputs": [],
   "source": [
    "# '123' + 456 # remove the comment and evalue this cell"
   ]
  },
  {
   "cell_type": "markdown",
   "metadata": {},
   "source": [
    "#### Arrays\n",
    "\n",
    "We often work with large collections of data. For example, suppose we want to work with the time series of a daily stock price in the last decade. \n",
    "\n",
    "The built-in Python data-type `list` allows to handle those cases. "
   ]
  },
  {
   "cell_type": "code",
   "execution_count": 190,
   "metadata": {},
   "outputs": [
    {
     "data": {
      "text/plain": [
       "list"
      ]
     },
     "execution_count": 190,
     "metadata": {},
     "output_type": "execute_result"
    }
   ],
   "source": [
    "v = [0.30, 0.60, 0.10]\n",
    "type(v)"
   ]
  },
  {
   "cell_type": "markdown",
   "metadata": {},
   "source": [
    "Python follows **zero-based indexing**. If we want to refer to the first element of `v`, we do it with:"
   ]
  },
  {
   "cell_type": "code",
   "execution_count": 191,
   "metadata": {},
   "outputs": [
    {
     "name": "stdout",
     "output_type": "stream",
     "text": [
      "0.3\n"
     ]
    }
   ],
   "source": [
    "print(v[0])"
   ]
  },
  {
   "cell_type": "markdown",
   "metadata": {},
   "source": [
    "Similarly, for the other elements, we use `v[i]` notation. \n",
    "\n",
    "The built-in function `len` determines the length of an array. `v` has 3 elements, therefore it has length 3."
   ]
  },
  {
   "cell_type": "code",
   "execution_count": 192,
   "metadata": {},
   "outputs": [
    {
     "data": {
      "text/plain": [
       "3"
      ]
     },
     "execution_count": 192,
     "metadata": {},
     "output_type": "execute_result"
    }
   ],
   "source": [
    "len(v)"
   ]
  },
  {
   "cell_type": "markdown",
   "metadata": {},
   "source": [
    "Given the **zero-based indexing**, the last element of an array is `v[len(x)-1]`."
   ]
  },
  {
   "cell_type": "code",
   "execution_count": 193,
   "metadata": {},
   "outputs": [
    {
     "name": "stdout",
     "output_type": "stream",
     "text": [
      "0.1\n"
     ]
    }
   ],
   "source": [
    "print(v[len(v)-1])"
   ]
  },
  {
   "cell_type": "markdown",
   "metadata": {},
   "source": [
    "We can add an element to `v` by writing:"
   ]
  },
  {
   "cell_type": "code",
   "execution_count": 194,
   "metadata": {},
   "outputs": [
    {
     "name": "stdout",
     "output_type": "stream",
     "text": [
      "[0.3, 0.6, 0.1, 0.0]\n"
     ]
    }
   ],
   "source": [
    "v += [0.00]\n",
    "print(v)"
   ]
  },
  {
   "cell_type": "markdown",
   "metadata": {},
   "source": [
    "The *slicing* notation allows to refer to any contiguous sequence of array elements. "
   ]
  },
  {
   "cell_type": "code",
   "execution_count": 195,
   "metadata": {},
   "outputs": [
    {
     "name": "stdout",
     "output_type": "stream",
     "text": [
      "[0.6, 0.1]\n"
     ]
    }
   ],
   "source": [
    "print(v[1:3])"
   ]
  },
  {
   "cell_type": "markdown",
   "metadata": {},
   "source": [
    "If we write `v[m:n]`, we obtain `n-m` elements starting at `v[m]`:"
   ]
  },
  {
   "cell_type": "markdown",
   "metadata": {},
   "source": [
    "If we want to access the last two values in `v`, we can use a negative index:"
   ]
  },
  {
   "cell_type": "code",
   "execution_count": 196,
   "metadata": {},
   "outputs": [
    {
     "name": "stdout",
     "output_type": "stream",
     "text": [
      "[0.1, 0.0]\n"
     ]
    }
   ],
   "source": [
    "print(v[-2:])"
   ]
  },
  {
   "cell_type": "code",
   "execution_count": 197,
   "metadata": {},
   "outputs": [
    {
     "name": "stdout",
     "output_type": "stream",
     "text": [
      "[0.3, 0.6, 0.1, 0.0]\n"
     ]
    }
   ],
   "source": [
    "print(v[:])"
   ]
  },
  {
   "cell_type": "markdown",
   "metadata": {},
   "source": [
    "We can change the values in a `list`. That's why we call them *mutable* objects.  \n",
    "\n",
    "This is in contrast with `int` and `float` types, that we *immutable*."
   ]
  },
  {
   "cell_type": "code",
   "execution_count": 198,
   "metadata": {},
   "outputs": [
    {
     "name": "stdout",
     "output_type": "stream",
     "text": [
      "[0.3, 0.6, 0.1, 0.5]\n"
     ]
    }
   ],
   "source": [
    "v[len(v)-1] = 0.50\n",
    "print(v)"
   ]
  },
  {
   "cell_type": "markdown",
   "metadata": {},
   "source": [
    "#### Array aliases and copies \n",
    "\n",
    "What is the effect of writing `z = v`?  `z` will reference the same object as `v`."
   ]
  },
  {
   "cell_type": "code",
   "execution_count": 199,
   "metadata": {},
   "outputs": [
    {
     "name": "stdout",
     "output_type": "stream",
     "text": [
      "[0.3, 0.6, 0.1, 0.5]\n"
     ]
    }
   ],
   "source": [
    "z = v\n",
    "print(z)"
   ]
  },
  {
   "cell_type": "markdown",
   "metadata": {},
   "source": [
    "The fact that an object of type `list` is *mutable* has an effect that may be surprising at first. \n",
    "\n",
    "It implies that if we change the value of one of the elements of the data object:"
   ]
  },
  {
   "cell_type": "code",
   "execution_count": 200,
   "metadata": {},
   "outputs": [
    {
     "name": "stdout",
     "output_type": "stream",
     "text": [
      "[0.3, 0.99, 0.1, 0.5]\n"
     ]
    }
   ],
   "source": [
    "v[1] = .99\n",
    "print(v)"
   ]
  },
  {
   "cell_type": "markdown",
   "metadata": {},
   "source": [
    "the object to which `v` (and `z`) refer to has changed, because we change the value of its second element."
   ]
  },
  {
   "cell_type": "code",
   "execution_count": 201,
   "metadata": {},
   "outputs": [
    {
     "name": "stdout",
     "output_type": "stream",
     "text": [
      "[0.3, 0.99, 0.1, 0.5]\n"
     ]
    }
   ],
   "source": [
    "print(z)"
   ]
  },
  {
   "cell_type": "markdown",
   "metadata": {},
   "source": [
    "`z[1]` is also .99, even though we didn't refer to `z[1]` explicitly. This situation, when two variables refer to the same object, is known as *aliasing*. \n",
    "\n",
    "We should always keep this property in mind, and whenever possible avoid aliasing arrays and other mutable objects. It is a fertible ground for programming errors (often difficult to spot). \n",
    "\n",
    "What if we want to make a *copy* `w` of an array `v`, such that `v` and `w` refer to two different objects?\n",
    "\n",
    "We can use *slicing* to refer to all the element of `v` and make a copy, to which `w` becomes bound to. "
   ]
  },
  {
   "cell_type": "code",
   "execution_count": 202,
   "metadata": {},
   "outputs": [
    {
     "name": "stdout",
     "output_type": "stream",
     "text": [
      "[0.3, 0.99, 0.1, 0.5]\n"
     ]
    }
   ],
   "source": [
    "w = v[:]\n",
    "print(w)"
   ]
  },
  {
   "cell_type": "code",
   "execution_count": 203,
   "metadata": {},
   "outputs": [
    {
     "name": "stdout",
     "output_type": "stream",
     "text": [
      "[0.3, 0.0, 0.1, 0.5]\n"
     ]
    }
   ],
   "source": [
    "v[1] = 0.00\n",
    "print(v)"
   ]
  },
  {
   "cell_type": "code",
   "execution_count": 204,
   "metadata": {},
   "outputs": [
    {
     "name": "stdout",
     "output_type": "stream",
     "text": [
      "[0.3, 0.99, 0.1, 0.5]\n"
     ]
    }
   ],
   "source": [
    "print(w)"
   ]
  },
  {
   "cell_type": "markdown",
   "metadata": {},
   "source": [
    "## Exercises "
   ]
  },
  {
   "cell_type": "markdown",
   "metadata": {},
   "source": [
    "### Exercise 1\n",
    "\n",
    "What do you think the value of `z` is, after running the code below? Change the cell below to read the value of `z` after the two statements."
   ]
  },
  {
   "cell_type": "code",
   "execution_count": 205,
   "metadata": {},
   "outputs": [],
   "source": [
    "z = 100\n",
    "z = 100 - 10"
   ]
  },
  {
   "cell_type": "markdown",
   "metadata": {},
   "source": [
    "### Exercise 2\n",
    "\n",
    "Create the following variables:\n",
    "\n",
    "- `D`: A floating point number with the value 10,000\n",
    "- `r`: A floating point number with value 0.025\n",
    "- `T`: An integer with value 30\n",
    "\n",
    "Then compute the present discounted value of a payment (D) made in T years assuming an interest rate of 2.5%. Save this value to a new variable called `PDV` and print your output."
   ]
  },
  {
   "cell_type": "markdown",
   "metadata": {},
   "source": [
    "### Exercise 3\n",
    "\n",
    "In Python, we can know more about what a function does by typing `?` after the function name. For example, if we want to know more about the function `len` seen above, we can type `len?`.\n",
    "\n",
    "If we write `x=[1, 2, 3, 4]`, what do you think `len(x)` will produce?\n",
    "\n",
    "Check if you are write by running the two statements below."
   ]
  },
  {
   "cell_type": "code",
   "execution_count": null,
   "metadata": {},
   "outputs": [],
   "source": []
  },
  {
   "cell_type": "markdown",
   "metadata": {},
   "source": [
    "### Exercise 4\n",
    "\n",
    "Without typing the commands, determine whether the following statements are true or false.\n",
    "\n",
    "Once you have evaluated whether the command is `True` or `False`, run the code in Python."
   ]
  },
  {
   "cell_type": "code",
   "execution_count": null,
   "metadata": {},
   "outputs": [],
   "source": [
    "x = 2\n",
    "y = 2\n",
    "z = 4\n",
    "\n",
    "# Statement 1\n",
    "x > z\n",
    "\n",
    "# Statement 1\n",
    "x == y\n",
    "\n",
    "# Statement 3\n",
    "(x < y) and (x > y)\n",
    "\n",
    "# Statement 4\n",
    "(x < y) or (x > y)\n",
    "\n",
    "# Statement 5\n",
    "(x <= y) and (x >= y)\n",
    "\n",
    "# Statement 6\n",
    "True and ((x < z) or (x < y))"
   ]
  },
  {
   "cell_type": "code",
   "execution_count": 207,
   "metadata": {},
   "outputs": [],
   "source": [
    "# code here"
   ]
  },
  {
   "cell_type": "markdown",
   "metadata": {},
   "source": [
    "### Exercise 5\n",
    "\n",
    "The code below is an invalid Python statement. Can you fix it?"
   ]
  },
  {
   "cell_type": "code",
   "execution_count": null,
   "metadata": {},
   "outputs": [],
   "source": [
    "x = 'What's wrong with this string'"
   ]
  },
  {
   "cell_type": "markdown",
   "metadata": {},
   "source": [
    "Note: the exercises above are in the [Python Fundamentals lecture](https://datascience.quantecon.org/python_fundamentals/basics.html) of the [Data Science course at QuantEcon.org](https://datascience.quantecon.org/). You can read the lecture and find more exercises at the bottom of the notebook."
   ]
  }
 ],
 "metadata": {
  "kernelspec": {
   "display_name": "Python 3",
   "language": "python",
   "name": "python3"
  },
  "language_info": {
   "codemirror_mode": {
    "name": "ipython",
    "version": 3
   },
   "file_extension": ".py",
   "mimetype": "text/x-python",
   "name": "python",
   "nbconvert_exporter": "python",
   "pygments_lexer": "ipython3",
   "version": "3.7.4"
  }
 },
 "nbformat": 4,
 "nbformat_minor": 4
}
